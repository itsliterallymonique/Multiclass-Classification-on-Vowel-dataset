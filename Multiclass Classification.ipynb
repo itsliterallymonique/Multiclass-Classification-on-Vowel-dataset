{
 "cells": [
  {
   "cell_type": "markdown",
   "metadata": {},
   "source": [
    "# Multiclass Classification on Vowel dataset\n",
    "- Vowels dataset from: https://web.stanford.edu/~hastie/ElemStatLearn/data.html\n",
    "- I will create a Gaussian Process Classifier, which is 'inherently multiclass' according to scikit-learn documentation"
   ]
  },
  {
   "cell_type": "code",
   "execution_count": 1,
   "metadata": {},
   "outputs": [],
   "source": [
    "# importing the necessary libraries\n",
    "import pandas as pd\n",
    "import sklearn as sk\n",
    "from sklearn.gaussian_process import GaussianProcessClassifier\n",
    "from sklearn import metrics\n",
    "import numpy as np\n",
    "import matplotlib.pyplot as plt\n",
    "import seaborn as sns"
   ]
  },
  {
   "cell_type": "code",
   "execution_count": 2,
   "metadata": {},
   "outputs": [],
   "source": [
    "# importing training and testing data from .csv format\n",
    "vowel_train = pd.read_csv('vowel_train.csv', sep = ',', header = 0)\n",
    "vowel_test = pd.read_csv('vowel_test.csv', sep = ',', header = 0)\n",
    "\n",
    "#setting x_train, y_train, x_test and y_test\n",
    "x_train = vowel_train.iloc[:,2:]\n",
    "y_train = vowel_train.iloc[:,1]\n",
    "\n",
    "x_test = vowel_test.iloc[:,2:]\n",
    "y_test = vowel_test.iloc[:,1]"
   ]
  },
  {
   "cell_type": "code",
   "execution_count": 3,
   "metadata": {},
   "outputs": [
    {
     "name": "stdout",
     "output_type": "stream",
     "text": [
      "Accuracy: 0.6406926406926406\n"
     ]
    }
   ],
   "source": [
    "# GAUSSIAN PROCESS CLASSIFIER\n",
    "gp = GaussianProcessClassifier(random_state = 0).fit(x_train, y_train)\n",
    "print(\"Accuracy:\", gp.score(x_test, y_test))"
   ]
  }
 ],
 "metadata": {
  "kernelspec": {
   "display_name": "Python 3",
   "language": "python",
   "name": "python3"
  },
  "language_info": {
   "codemirror_mode": {
    "name": "ipython",
    "version": 3
   },
   "file_extension": ".py",
   "mimetype": "text/x-python",
   "name": "python",
   "nbconvert_exporter": "python",
   "pygments_lexer": "ipython3",
   "version": "3.8.5"
  }
 },
 "nbformat": 4,
 "nbformat_minor": 4
}
